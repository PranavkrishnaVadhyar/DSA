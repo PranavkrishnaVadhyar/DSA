{
  "nbformat": 4,
  "nbformat_minor": 0,
  "metadata": {
    "colab": {
      "provenance": [],
      "authorship_tag": "ABX9TyNTNCYjr/yASS3C+1J6e/+o",
      "include_colab_link": true
    },
    "kernelspec": {
      "name": "python3",
      "display_name": "Python 3"
    },
    "language_info": {
      "name": "python"
    }
  },
  "cells": [
    {
      "cell_type": "markdown",
      "metadata": {
        "id": "view-in-github",
        "colab_type": "text"
      },
      "source": [
        "<a href=\"https://colab.research.google.com/github/PranavkrishnaVadhyar/DSA/blob/main/stack.ipynb\" target=\"_parent\"><img src=\"https://colab.research.google.com/assets/colab-badge.svg\" alt=\"Open In Colab\"/></a>"
      ]
    },
    {
      "cell_type": "markdown",
      "source": [
        "#Stack"
      ],
      "metadata": {
        "id": "isZpvMBKDl9a"
      }
    },
    {
      "cell_type": "markdown",
      "source": [
        "##**Intro**\n",
        "\n",
        "- LIFO\n",
        "- Underflow exists\n",
        "\n"
      ],
      "metadata": {
        "id": "r6uZkmQpDozB"
      }
    },
    {
      "cell_type": "code",
      "execution_count": 5,
      "metadata": {
        "id": "jt1PhYYsDjRY"
      },
      "outputs": [],
      "source": [
        "from collections import deque\n",
        "\n",
        "stack = deque()\n"
      ]
    },
    {
      "cell_type": "code",
      "source": [
        "# append() function to push\n",
        "# element in the stack\n",
        "stack.append('a')\n",
        "stack.append('b')\n",
        "stack.append('c')\n",
        "\n",
        "print('Initial stack:')\n",
        "print(stack)"
      ],
      "metadata": {
        "colab": {
          "base_uri": "https://localhost:8080/"
        },
        "id": "QELmCk5EE5oq",
        "outputId": "b3fbb3e3-2141-4f10-f140-be12ff143c1f"
      },
      "execution_count": 8,
      "outputs": [
        {
          "output_type": "stream",
          "name": "stdout",
          "text": [
            "Initial stack:\n",
            "deque(['a', 'b', 'c'])\n"
          ]
        }
      ]
    },
    {
      "cell_type": "code",
      "source": [
        "# pop() function to pop\n",
        "# element from stack in\n",
        "# LIFO order\n",
        "print('\\nElements popped from stack:')\n",
        "print(stack.pop())\n",
        "print(stack.pop())\n",
        "print(stack.pop())\n",
        "\n",
        "print('\\nStack after elements are popped:')\n",
        "print(stack)\n"
      ],
      "metadata": {
        "colab": {
          "base_uri": "https://localhost:8080/"
        },
        "id": "5EazvpVNFLwR",
        "outputId": "0fb13877-b6f3-42c6-d812-5778b99ed167"
      },
      "execution_count": 7,
      "outputs": [
        {
          "output_type": "stream",
          "name": "stdout",
          "text": [
            "\n",
            "Elements popped from stack:\n",
            "c\n",
            "b\n",
            "a\n",
            "\n",
            "Stack after elements are popped:\n",
            "deque([])\n"
          ]
        }
      ]
    },
    {
      "cell_type": "code",
      "source": [],
      "metadata": {
        "colab": {
          "base_uri": "https://localhost:8080/"
        },
        "id": "8AGRxyQ2FZtH",
        "outputId": "db68b542-7576-41ae-cf5c-2d67804f75c8"
      },
      "execution_count": 4,
      "outputs": [
        {
          "output_type": "execute_result",
          "data": {
            "text/plain": [
              "5"
            ]
          },
          "metadata": {},
          "execution_count": 4
        }
      ]
    },
    {
      "cell_type": "code",
      "source": [],
      "metadata": {
        "id": "hBTmekaOFekX"
      },
      "execution_count": null,
      "outputs": []
    },
    {
      "cell_type": "markdown",
      "source": [
        "##Methods\n",
        "\n",
        "- Push/pop : O(1)"
      ],
      "metadata": {
        "id": "9MahQodHFv7o"
      }
    },
    {
      "cell_type": "markdown",
      "source": [
        "#Queue"
      ],
      "metadata": {
        "id": "h_juMSxgGikP"
      }
    },
    {
      "cell_type": "markdown",
      "source": [
        "##**Intro**\n",
        "\n",
        "- FIFO\n",
        "- Underflow and overflow"
      ],
      "metadata": {
        "id": "F7qAR1RAGkVG"
      }
    },
    {
      "cell_type": "code",
      "source": [
        "queue = []\n",
        "queue.append('a')\n",
        "queue.append('b')\n",
        "queue.append('c')"
      ],
      "metadata": {
        "id": "-oDRGx3IG3jr"
      },
      "execution_count": 14,
      "outputs": []
    },
    {
      "cell_type": "code",
      "source": [
        "print(\"Initial queue\")\n",
        "print(queue)\n",
        "print(\"\\nElements dequeued from queue\")"
      ],
      "metadata": {
        "colab": {
          "base_uri": "https://localhost:8080/"
        },
        "id": "u5D46tSPG4o6",
        "outputId": "a82d530c-a99d-4bde-a182-2f321030c46b"
      },
      "execution_count": 15,
      "outputs": [
        {
          "output_type": "stream",
          "name": "stdout",
          "text": [
            "Initial queue\n",
            "['a', 'b', 'c']\n",
            "\n",
            "Elements dequeued from queue\n"
          ]
        }
      ]
    },
    {
      "cell_type": "code",
      "source": [
        "print(queue.pop(0))\n",
        "print(queue.pop(0))\n",
        "print(queue.pop(0))"
      ],
      "metadata": {
        "colab": {
          "base_uri": "https://localhost:8080/"
        },
        "id": "jed2Mu12G834",
        "outputId": "7f0d06f2-c7d2-4fd1-c06f-5d18ccac96b2"
      },
      "execution_count": 16,
      "outputs": [
        {
          "output_type": "stream",
          "name": "stdout",
          "text": [
            "a\n",
            "b\n",
            "c\n"
          ]
        }
      ]
    },
    {
      "cell_type": "code",
      "source": [
        "print(\"\\nQueue after removing elements\")\n",
        "print(queue)"
      ],
      "metadata": {
        "colab": {
          "base_uri": "https://localhost:8080/"
        },
        "id": "DGB4z661HArx",
        "outputId": "69dac563-359d-4d14-ae19-1a4344ff11cb"
      },
      "execution_count": 17,
      "outputs": [
        {
          "output_type": "stream",
          "name": "stdout",
          "text": [
            "\n",
            "Queue after removing elements\n",
            "[]\n"
          ]
        }
      ]
    },
    {
      "cell_type": "markdown",
      "source": [
        "#Dequeue\n",
        "\n",
        " - Push and pop from both ends"
      ],
      "metadata": {
        "id": "GMnZYsjmG1In"
      }
    },
    {
      "cell_type": "code",
      "source": [],
      "metadata": {
        "id": "irU83rCaHhIi"
      },
      "execution_count": null,
      "outputs": []
    }
  ]
}