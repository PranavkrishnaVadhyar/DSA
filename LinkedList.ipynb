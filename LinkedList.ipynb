{
  "nbformat": 4,
  "nbformat_minor": 0,
  "metadata": {
    "colab": {
      "provenance": [],
      "authorship_tag": "ABX9TyNUtdeY3fUB4BZ+6KQnUmzh",
      "include_colab_link": true
    },
    "kernelspec": {
      "name": "python3",
      "display_name": "Python 3"
    },
    "language_info": {
      "name": "python"
    }
  },
  "cells": [
    {
      "cell_type": "markdown",
      "metadata": {
        "id": "view-in-github",
        "colab_type": "text"
      },
      "source": [
        "<a href=\"https://colab.research.google.com/github/PranavkrishnaVadhyar/DSA/blob/main/LinkedList.ipynb\" target=\"_parent\"><img src=\"https://colab.research.google.com/assets/colab-badge.svg\" alt=\"Open In Colab\"/></a>"
      ]
    },
    {
      "cell_type": "markdown",
      "source": [
        "#Linked list\n",
        "\n",
        "##Issues with array\n",
        "\n",
        "- Array stores values at contagious adresses. Insertion is easy LL(\n",
        "  Begining insert/delete = O(1)\n",
        "  Middle = O(n)\n",
        ").\n",
        "\n",
        "Doubly linked list : Pointers in both sides"
      ],
      "metadata": {
        "id": "_DnqICSPXSNH"
      }
    },
    {
      "cell_type": "code",
      "execution_count": 3,
      "metadata": {
        "id": "083S4XsAWyun"
      },
      "outputs": [],
      "source": [
        "class Node:\n",
        "\n",
        "  def __init__(self, data=None, next=None):\n",
        "    self.data = data\n",
        "    self.next = next\n",
        "\n",
        "class LinkedList:\n",
        "\n",
        "  def __init__(self):\n",
        "    self.head = None\n",
        "\n",
        "  def insert_at_begining(self, data):\n",
        "    node = Node(data, self.head)\n",
        "    self.head = node\n",
        "\n",
        "  def insert_at_end(self, data):\n",
        "\n",
        "    ptr = self.head\n",
        "    while ptr.next:\n",
        "      ptr = ptr.next\n",
        "\n",
        "    ptr.next = Node(data,None)\n",
        "\n",
        "  def remove_at(self, index):\n",
        "\n",
        "    if index < 0:\n",
        "      raise Exception(\"index out of bounds\")\n",
        "\n",
        "    if index == 0:\n",
        "\n",
        "      self.head = self.head.next\n",
        "      return\n",
        "\n",
        "    count = 0\n",
        "    ptr = self.head\n",
        "    while ptr:\n",
        "      if count == index - 1:\n",
        "        ptr.next = ptr.next.next\n",
        "        break\n",
        "\n",
        "      count += 1\n",
        "      ptr = ptr.next\n",
        "\n",
        "  def get_len(self):\n",
        "    if self.head is None:\n",
        "      return 0\n",
        "\n",
        "    else:\n",
        "      ptr = self.head\n",
        "      count = 0\n",
        "\n",
        "      while ptr:\n",
        "        count += 1\n",
        "        ptr = ptr.next\n",
        "      return count\n",
        "\n",
        "  def insert_at(self,index,data):\n",
        "\n",
        "   if index<0 or index>self.get_len():\n",
        "     raise Exception(\"index out of bounds\")\n",
        "\n",
        "   elif index == 0:\n",
        "     self.insert_at_begining(data)\n",
        "\n",
        "   else:\n",
        "\n",
        "     ptr = self.head\n",
        "     count = 0\n",
        "\n",
        "     while ptr:\n",
        "       if count == index - 1:\n",
        "         node = Node(data, ptr.next)\n",
        "         ptr.next = node\n",
        "         break\n",
        "\n",
        "       ptr = ptr.next\n",
        "       count += 1\n",
        "\n",
        "  def print(self):\n",
        "    if self.head is None:\n",
        "      print(\"Linked list is empty\")\n",
        "\n",
        "      return\n",
        "\n",
        "    ptr = self.head\n",
        "    llsr = ''\n",
        "\n",
        "    while ptr:\n",
        "      llsr += str(ptr.data) + '-->'\n",
        "      ptr = ptr.next\n",
        "    print(llsr)\n"
      ]
    },
    {
      "cell_type": "code",
      "source": [
        "ll = LinkedList()\n",
        "ll.insert_at_begining(5)\n",
        "ll.insert_at_begining(4)\n",
        "\n"
      ],
      "metadata": {
        "id": "U_3MToAgcUfQ"
      },
      "execution_count": 4,
      "outputs": []
    },
    {
      "cell_type": "code",
      "source": [
        "ll.insert_at_end(6)\n",
        "ll.insert_at_end(7)"
      ],
      "metadata": {
        "id": "vWvSyTKMeMUX"
      },
      "execution_count": 5,
      "outputs": []
    },
    {
      "cell_type": "code",
      "source": [
        "ll.print()"
      ],
      "metadata": {
        "colab": {
          "base_uri": "https://localhost:8080/"
        },
        "id": "FCK6Bu5bcZTZ",
        "outputId": "689551d3-c927-437b-94f4-d9c0ad20f05a"
      },
      "execution_count": 6,
      "outputs": [
        {
          "output_type": "stream",
          "name": "stdout",
          "text": [
            "4-->5-->6-->7-->\n"
          ]
        }
      ]
    },
    {
      "cell_type": "code",
      "source": [
        "ll.remove_at(2)"
      ],
      "metadata": {
        "id": "F29lS1MPccru"
      },
      "execution_count": 7,
      "outputs": []
    },
    {
      "cell_type": "code",
      "source": [
        "ll.print()"
      ],
      "metadata": {
        "colab": {
          "base_uri": "https://localhost:8080/"
        },
        "id": "phqQAE4ioDSe",
        "outputId": "9a1e8d35-8ece-4c0b-f808-3da6c7d86bf3"
      },
      "execution_count": 8,
      "outputs": [
        {
          "output_type": "stream",
          "name": "stdout",
          "text": [
            "4-->5-->7-->\n"
          ]
        }
      ]
    },
    {
      "cell_type": "code",
      "source": [
        "ll.insert_at(2,6)"
      ],
      "metadata": {
        "id": "u98TPw6koFfM"
      },
      "execution_count": 9,
      "outputs": []
    },
    {
      "cell_type": "code",
      "source": [
        "ll.print()"
      ],
      "metadata": {
        "colab": {
          "base_uri": "https://localhost:8080/"
        },
        "id": "MounRLgY-0mz",
        "outputId": "7e4ef267-f306-49ec-b0d4-dbff1a23731d"
      },
      "execution_count": 10,
      "outputs": [
        {
          "output_type": "stream",
          "name": "stdout",
          "text": [
            "4-->5-->6-->7-->\n"
          ]
        }
      ]
    },
    {
      "cell_type": "code",
      "source": [],
      "metadata": {
        "id": "AhpUvyHh-14E"
      },
      "execution_count": null,
      "outputs": []
    }
  ]
}