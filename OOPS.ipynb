{
  "nbformat": 4,
  "nbformat_minor": 0,
  "metadata": {
    "colab": {
      "provenance": [],
      "authorship_tag": "ABX9TyOVOcI/yTYAtbpxwtfEUcn6",
      "include_colab_link": true
    },
    "kernelspec": {
      "name": "python3",
      "display_name": "Python 3"
    },
    "language_info": {
      "name": "python"
    }
  },
  "cells": [
    {
      "cell_type": "markdown",
      "metadata": {
        "id": "view-in-github",
        "colab_type": "text"
      },
      "source": [
        "<a href=\"https://colab.research.google.com/github/PranavkrishnaVadhyar/DSA/blob/main/OOPS.ipynb\" target=\"_parent\"><img src=\"https://colab.research.google.com/assets/colab-badge.svg\" alt=\"Open In Colab\"/></a>"
      ]
    },
    {
      "cell_type": "markdown",
      "source": [
        "#Introduction\n",
        "\n",
        "- **Functional programming**: Reduce redundancy and increase reuseability\n",
        "\n",
        "Objects : Lists, Strings\n",
        "\n",
        "\n",
        "Class : Blueprint of creating objects.\n"
      ],
      "metadata": {
        "id": "wZ5Ej1g0BOcQ"
      }
    },
    {
      "cell_type": "code",
      "execution_count": null,
      "metadata": {
        "id": "L24pNgc0610M"
      },
      "outputs": [],
      "source": [
        "#Creating class and\n",
        "class Student:\n",
        "  name = \"Karan\""
      ]
    },
    {
      "cell_type": "code",
      "source": [
        "s1 = Student()\n",
        "s1.name"
      ],
      "metadata": {
        "colab": {
          "base_uri": "https://localhost:8080/",
          "height": 36
        },
        "id": "z4KGVGTEC4mS",
        "outputId": "4f6fda58-67b8-4faf-8457-d884707acd33"
      },
      "execution_count": null,
      "outputs": [
        {
          "output_type": "execute_result",
          "data": {
            "text/plain": [
              "'Karan'"
            ],
            "application/vnd.google.colaboratory.intrinsic+json": {
              "type": "string"
            }
          },
          "metadata": {},
          "execution_count": 2
        }
      ]
    },
    {
      "cell_type": "markdown",
      "source": [
        "##Constructor\n",
        "\n",
        "- init fucntion : Initialises object variables\n",
        " - Self  : Argument of init  - indicates or point to the created object"
      ],
      "metadata": {
        "id": "iiuenMD8DGJA"
      }
    },
    {
      "cell_type": "code",
      "source": [
        "class Student:\n",
        "\n",
        "  def __init__(self, fullname):\n",
        "    self.name = fullname\n",
        "    print(self.name)\n"
      ],
      "metadata": {
        "id": "WXyzTCEyDgWF"
      },
      "execution_count": null,
      "outputs": []
    },
    {
      "cell_type": "code",
      "source": [
        "s1 = Student(\"karan\")\n",
        "s2 = Student(\"arjun\")"
      ],
      "metadata": {
        "colab": {
          "base_uri": "https://localhost:8080/"
        },
        "id": "C762FGVtFLEH",
        "outputId": "d0335809-2d7a-46ba-a716-d1c76fe806f9"
      },
      "execution_count": null,
      "outputs": [
        {
          "output_type": "stream",
          "name": "stdout",
          "text": [
            "karan\n",
            "arjun\n"
          ]
        }
      ]
    },
    {
      "cell_type": "code",
      "source": [
        "s1.name\n",
        "s2.name"
      ],
      "metadata": {
        "colab": {
          "base_uri": "https://localhost:8080/",
          "height": 36
        },
        "id": "jm1YBJb8FaFa",
        "outputId": "18cdee0c-1d2f-4fd4-d8ca-40f13eaae460"
      },
      "execution_count": null,
      "outputs": [
        {
          "output_type": "execute_result",
          "data": {
            "text/plain": [
              "'arjun'"
            ],
            "application/vnd.google.colaboratory.intrinsic+json": {
              "type": "string"
            }
          },
          "metadata": {},
          "execution_count": 19
        }
      ]
    },
    {
      "cell_type": "markdown",
      "source": [
        "##Attributes\n",
        "\n",
        "- class attr :\n",
        "    - common for objects\n",
        "- instance attr :\n",
        "    - specific for certain objects\n",
        "\n",
        "- Methods : Functions  - Self is given as parameter compulsorily"
      ],
      "metadata": {
        "id": "VPeqI2LGF25Y"
      }
    },
    {
      "cell_type": "code",
      "source": [
        "class Student:\n",
        "\n",
        "   # default const\n",
        "  def __init__(self):\n",
        "    pass\n",
        "\n",
        "   #parameterized\n",
        "  def __init__(self, fullname):\n",
        "    self.name = fullname\n",
        "    print(self.name)"
      ],
      "metadata": {
        "id": "615aXckLFbMF"
      },
      "execution_count": null,
      "outputs": []
    },
    {
      "cell_type": "code",
      "source": [
        "class Student:\n",
        "\n",
        "  college = \"Toc H\" # class attributes - Can be used to set default value as obj attr > class attr\n",
        "\n",
        "  def __init__(self, fullname, college):\n",
        "    self.name = fullname\n",
        "    self.college = college\n",
        "    print(self.name)\n",
        "\n",
        "  def hello(self):\n",
        "    print(\"Hello\", self.name)"
      ],
      "metadata": {
        "id": "Ty2yEIWv3ilV"
      },
      "execution_count": null,
      "outputs": []
    },
    {
      "cell_type": "code",
      "source": [
        "s1 = Student(\"abc\",\"toc\")"
      ],
      "metadata": {
        "colab": {
          "base_uri": "https://localhost:8080/"
        },
        "id": "2XgJwSSB6md0",
        "outputId": "94f62fa5-4fdc-49a7-b6c4-e8fdad627710"
      },
      "execution_count": null,
      "outputs": [
        {
          "output_type": "stream",
          "name": "stdout",
          "text": [
            "abc\n"
          ]
        }
      ]
    },
    {
      "cell_type": "code",
      "source": [
        "s1.hello()"
      ],
      "metadata": {
        "colab": {
          "base_uri": "https://localhost:8080/"
        },
        "id": "EpKec4a97WcN",
        "outputId": "de1e68f4-b2c2-4671-826e-1b629502cd0b"
      },
      "execution_count": null,
      "outputs": [
        {
          "output_type": "stream",
          "name": "stdout",
          "text": [
            "Hello abc\n"
          ]
        }
      ]
    },
    {
      "cell_type": "markdown",
      "source": [
        "#Practice\n",
        "\n",
        "Create a student class that takes name and marks of 3 subjects as arguments in constructor. Then create a method to print the average."
      ],
      "metadata": {
        "id": "msSkdfjL7u_8"
      }
    },
    {
      "cell_type": "code",
      "source": [
        "class Student:\n",
        "\n",
        "  def __init__(self, name, mark1, mark2, mark3):\n",
        "    self.name = name\n",
        "    self.mark1 = mark1\n",
        "    self.mark2 = mark2\n",
        "    self.mark3 = mark3\n",
        "\n",
        "  def average(self):\n",
        "\n",
        "    return (self.mark1 + self.mark2 + self.mark3)/3"
      ],
      "metadata": {
        "id": "vtJ1NIbg7ZKE"
      },
      "execution_count": null,
      "outputs": []
    },
    {
      "cell_type": "code",
      "source": [
        "s1 = Student(\"abc\",12,13,14)\n",
        "\n",
        "avg = s1.average()"
      ],
      "metadata": {
        "id": "gE0PY7G88qgu"
      },
      "execution_count": null,
      "outputs": []
    },
    {
      "cell_type": "code",
      "source": [
        "print(avg)"
      ],
      "metadata": {
        "colab": {
          "base_uri": "https://localhost:8080/"
        },
        "id": "_d4Y5mTj810k",
        "outputId": "27a83aad-ad1c-47eb-f6ea-45c6e835874c"
      },
      "execution_count": null,
      "outputs": [
        {
          "output_type": "stream",
          "name": "stdout",
          "text": [
            "13.0\n"
          ]
        }
      ]
    },
    {
      "cell_type": "markdown",
      "source": [
        "Remarks = Can store marks in list during initialization"
      ],
      "metadata": {
        "id": "Lo5r-5sN9Fwl"
      }
    },
    {
      "cell_type": "markdown",
      "source": [
        "##Static methods\n",
        "\n",
        " -"
      ],
      "metadata": {
        "id": "JfbcJXyB9VDG"
      }
    },
    {
      "cell_type": "code",
      "source": [],
      "metadata": {
        "id": "qFamaZy583p6"
      },
      "execution_count": null,
      "outputs": []
    }
  ]
}