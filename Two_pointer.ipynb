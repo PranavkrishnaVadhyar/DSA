{
  "nbformat": 4,
  "nbformat_minor": 0,
  "metadata": {
    "colab": {
      "provenance": [],
      "authorship_tag": "ABX9TyP5wRT7CQ6rItP2PZuvSUvg",
      "include_colab_link": true
    },
    "kernelspec": {
      "name": "python3",
      "display_name": "Python 3"
    },
    "language_info": {
      "name": "python"
    }
  },
  "cells": [
    {
      "cell_type": "markdown",
      "metadata": {
        "id": "view-in-github",
        "colab_type": "text"
      },
      "source": [
        "<a href=\"https://colab.research.google.com/github/PranavkrishnaVadhyar/DSA/blob/main/Two_pointer.ipynb\" target=\"_parent\"><img src=\"https://colab.research.google.com/assets/colab-badge.svg\" alt=\"Open In Colab\"/></a>"
      ]
    },
    {
      "cell_type": "code",
      "execution_count": null,
      "metadata": {
        "id": "A_KqbPStQ9gL"
      },
      "outputs": [],
      "source": [
        "class Solution:\n",
        "    def isPalindrome(self, s: str) -> bool:\n",
        "        l,r = 0, len(s) - 1\n",
        "\n",
        "        while l < r:\n",
        "\n",
        "            while l < r  and not self.isalnu(s[l]):\n",
        "                l += 1\n",
        "            while l < r  and not self.isalnu(s[r]):\n",
        "                r -= 1\n",
        "\n",
        "            if s[l].lower() != s[r].lower():\n",
        "                return False\n",
        "\n",
        "            l += 1\n",
        "            r -= 1\n",
        "\n",
        "        return True\n",
        "\n",
        "\n",
        "    def isalnu(self, s):\n",
        "\n",
        "        if (ord('A') <= ord(s) <= ord('Z') or ord('a') <= ord(s) <= ord('z') or ord('0') <= ord(s) <= ord('9')):\n",
        "            return True\n",
        "\n",
        "        return False"
      ]
    }
  ]
}