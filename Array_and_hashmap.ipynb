{
  "nbformat": 4,
  "nbformat_minor": 0,
  "metadata": {
    "colab": {
      "provenance": [],
      "authorship_tag": "ABX9TyOsCfQQZ0nU2yLYtrGxxr1D",
      "include_colab_link": true
    },
    "kernelspec": {
      "name": "python3",
      "display_name": "Python 3"
    },
    "language_info": {
      "name": "python"
    }
  },
  "cells": [
    {
      "cell_type": "markdown",
      "metadata": {
        "id": "view-in-github",
        "colab_type": "text"
      },
      "source": [
        "<a href=\"https://colab.research.google.com/github/PranavkrishnaVadhyar/DSA/blob/main/Array_and_hashmap.ipynb\" target=\"_parent\"><img src=\"https://colab.research.google.com/assets/colab-badge.svg\" alt=\"Open In Colab\"/></a>"
      ]
    },
    {
      "cell_type": "code",
      "execution_count": null,
      "metadata": {
        "id": "sNYgQeACfNJN"
      },
      "outputs": [],
      "source": [
        "class Solution:\n",
        "    def containsDuplicate(self, nums: List[int]) -> bool:\n",
        "        hashset = set()\n",
        "\n",
        "        for i in nums:\n",
        "\n",
        "            if i in hashset:\n",
        "                return True\n",
        "\n",
        "            hashset.add(i)\n",
        "\n",
        "        return False"
      ]
    },
    {
      "cell_type": "code",
      "source": [
        "class Solution:\n",
        "    def isAnagram(self, s: str, t: str) -> bool:\n",
        "\n",
        "        countS, countT = {},{}\n",
        "\n",
        "        if len(s) != len(t):\n",
        "            return False\n",
        "\n",
        "        for i in range(0,len(s)):\n",
        "\n",
        "            countS[s[i]] = 1 + countS.get(s[i],0)\n",
        "            countT[t[i]] = 1 + countT.get(t[i],0)\n",
        "\n",
        "        for i in s:\n",
        "\n",
        "            if countS[i] != countT.get(i,0):\n",
        "                return False\n",
        "\n",
        "        return True\n"
      ],
      "metadata": {
        "id": "sWMcZUp-ffmo"
      },
      "execution_count": null,
      "outputs": []
    },
    {
      "cell_type": "code",
      "source": [
        "class Solution:\n",
        "    def twoSum(self, nums: List[int], target: int) -> List[int]:\n",
        "\n",
        "        hashmap = {}\n",
        "\n",
        "        for i,n in enumerate(nums):\n",
        "            diff = target - n\n",
        "            if diff in hashmap:\n",
        "                return [hashmap[diff],i]\n",
        "            hashmap[n] = i\n",
        "        return"
      ],
      "metadata": {
        "id": "Nk8xRLpofSXe"
      },
      "execution_count": null,
      "outputs": []
    },
    {
      "cell_type": "code",
      "source": [
        "class Solution:\n",
        "    def groupAnagrams(self, strs: List[str]) -> List[List[str]]:\n",
        "\n",
        "        hashmap = defaultdict(list)\n",
        "\n",
        "\n",
        "\n",
        "        for i in strs:\n",
        "            count = [0] * 26\n",
        "            for c in i:\n",
        "                count[ord(c) - ord('a')] += 1\n",
        "\n",
        "            hashmap[tuple(count)].append(i)\n",
        "\n",
        "        return hashmap.values()\n"
      ],
      "metadata": {
        "id": "fJKEiWQAfsg3"
      },
      "execution_count": null,
      "outputs": []
    },
    {
      "cell_type": "code",
      "source": [
        "class Solution:\n",
        "    def topKFrequent(self, nums: List[int], k: int) -> List[int]:\n",
        "\n",
        "        count = {}\n",
        "\n",
        "        freq = [[] for i in range(len(nums) + 1)]\n",
        "\n",
        "        for i in  nums:\n",
        "            count[i] = 1 + count.get(i,0)\n",
        "\n",
        "        for n,c in count.items():\n",
        "            freq[c].append(n)\n",
        "\n",
        "        res = []\n",
        "\n",
        "        for i in range(len(freq) - 1, 0, -1):\n",
        "            for num in freq[i]:\n",
        "                res.append(num)\n",
        "                if len(res) == k:\n",
        "                    return res"
      ],
      "metadata": {
        "id": "6SS5Z55xsiKM"
      },
      "execution_count": null,
      "outputs": []
    }
  ]
}